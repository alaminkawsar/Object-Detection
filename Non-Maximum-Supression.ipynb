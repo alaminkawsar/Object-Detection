{
 "cells": [
  {
   "cell_type": "code",
   "execution_count": 2,
   "id": "0c90afd0",
   "metadata": {},
   "outputs": [],
   "source": [
    "\n",
    "import pyautogui\n",
    "import cv2\n",
    "import numpy as np\n",
    "import os\n",
    "import time\n",
    "import matplotlib.pyplot as plt\n",
    "import copy\n",
    "\n",
    "\n",
    "def NMS(boxes, overlapThresh = 0.4):\n",
    "    #return an empty list, if no boxes given\n",
    "    if len(boxes) == 0:\n",
    "        return []\n",
    "    x1 = boxes[:, 0]  # x coordinate of the top-left corner\n",
    "    y1 = boxes[:, 1]  # y coordinate of the top-left corner\n",
    "    x2 = boxes[:, 2]  # x coordinate of the bottom-right corner\n",
    "    y2 = boxes[:, 3]  # y coordinate of the bottom-right corner\n",
    "    # compute the area of the bounding boxes and sort the bounding\n",
    "    # boxes by the bottom-right y-coordinate of the bounding box\n",
    "    areas = (x2 - x1 + 1) * (y2 - y1 + 1) # We have a least a box of one pixel, therefore the +1\n",
    "    indices = np.arange(len(x1))\n",
    "    for i,box in enumerate(boxes):\n",
    "        temp_indices = indices[indices!=i]\n",
    "        xx1 = np.maximum(box[0], boxes[temp_indices,0])\n",
    "        yy1 = np.maximum(box[1], boxes[temp_indices,1])\n",
    "        xx2 = np.minimum(box[2], boxes[temp_indices,2])\n",
    "        yy2 = np.minimum(box[3], boxes[temp_indices,3])\n",
    "        w = np.maximum(0, xx2 - xx1 + 1)\n",
    "        h = np.maximum(0, yy2 - yy1 + 1)\n",
    "        # compute the ratio of overlap\n",
    "        overlap = (w * h) / areas[temp_indices]\n",
    "        if np.any(overlap) > treshold:\n",
    "            indices = indices[indices != i]\n",
    "    return boxes[indices].astype(int)\n"
   ]
  },
  {
   "cell_type": "code",
   "execution_count": 70,
   "id": "9673a139",
   "metadata": {},
   "outputs": [],
   "source": [
    "def bounding_boxes(image, template, treshold=0.30):\n",
    "    (tH, tW) = template.shape[:2]             # getting height and width of template \n",
    "    imageGray = cv2.cvtColor(image, 0)        # convert the image to grayscale\n",
    "    templateGray = cv2.cvtColor(template, 0)  # convert the template to grayscale\n",
    "    \"\"\"\"\"\n",
    "    plt.imshow(imageGray)\n",
    "    plt.show()\n",
    "    \"\"\"\"\"\n",
    "    #print(tH,tW)\n",
    "    # All the 6 methods for comparison in a list\n",
    "    \n",
    "    \n",
    "    result = cv2.matchTemplate(imageGray, templateGray, 'v2.TM_CCOEFF_NORMED')  #template matching return the correlation \n",
    "    (y1, x1) = np.where(result >= treshold)  # object is detected, where the correlation is above the treshold\n",
    "    #pint(result)\n",
    "    boxes = np.zeros((len(y1), 4))      # construct array of zeros\n",
    "    x2 = x1 + tW                       # calculate x2 with the width of the template\n",
    "    y2 = y1 + tH                       # calculate y2 with the height of the template\n",
    "    # fill the bounding boxes array\n",
    "    boxes[:, 0] = x1                 \n",
    "    boxes[:, 1] = y1\n",
    "    boxes[:, 2] = x2\n",
    "    boxes[:, 3] = y2\n",
    "    \n",
    "    #print(boxes)\n",
    "    \n",
    "    return boxes.astype(int)\n"
   ]
  },
  {
   "cell_type": "code",
   "execution_count": 71,
   "id": "c6c60476",
   "metadata": {},
   "outputs": [],
   "source": [
    "\n",
    "def draw_bounding_boxes(image,boxes):\n",
    "    for box in boxes:\n",
    "        image = cv2.rectangle(copy.deepcopy(image),box[:2], box[2:], (255,0,0), 3)\n",
    "    return image\n"
   ]
  },
  {
   "cell_type": "code",
   "execution_count": null,
   "id": "f86bbc21",
   "metadata": {},
   "outputs": [],
   "source": [
    "\n",
    "if __name__ == \"__main__\":\n",
    "    time.sleep(2)\n",
    "    treshold = 0.8837 # the correlation treshold, in order for an object to be recognised\n",
    "    template_diamonds = plt.imread(r\"/home/kawsar/Desktop/Deep Learning/Object Detection/template.png\")\n",
    "\n",
    "    ace_diamonds_rotated = plt.imread(r\"/home/kawsar/Desktop/Deep Learning/Object Detection/image.png\")\n",
    "    \n",
    "    boxes_redundant = bounding_boxes(ace_diamonds_rotated, template_diamonds) # calculate bounding boxes\n",
    "    boxes = NMS(boxes_redundant)                                            # remove redundant bounding boxes\n",
    "    overlapping_BB_image = draw_bounding_boxes(ace_diamonds_rotated, boxes_redundant)  # draw image with all redundant bounding boxes\n",
    "    segmented_image = draw_bounding_boxes(ace_diamonds_rotated,boxes)  # draw the bounding boxes onto the image\n",
    "  \n",
    "    plt.imshow(overlapping_BB_image)\n",
    "    plt.show()\n",
    "    plt.imshow(segmented_image)\n",
    "    plt.show()\n"
   ]
  },
  {
   "cell_type": "code",
   "execution_count": null,
   "id": "c8ed398e",
   "metadata": {},
   "outputs": [],
   "source": []
  }
 ],
 "metadata": {
  "kernelspec": {
   "display_name": "Python 3 (ipykernel)",
   "language": "python",
   "name": "python3"
  },
  "language_info": {
   "codemirror_mode": {
    "name": "ipython",
    "version": 3
   },
   "file_extension": ".py",
   "mimetype": "text/x-python",
   "name": "python",
   "nbconvert_exporter": "python",
   "pygments_lexer": "ipython3",
   "version": "3.8.5"
  }
 },
 "nbformat": 4,
 "nbformat_minor": 5
}
